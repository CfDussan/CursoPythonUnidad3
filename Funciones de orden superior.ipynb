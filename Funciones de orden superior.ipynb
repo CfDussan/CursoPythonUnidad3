{
 "cells": [
  {
   "cell_type": "markdown",
   "metadata": {},
   "source": [
    "Funciones de orden Superior"
   ]
  },
  {
   "cell_type": "code",
   "execution_count": 1,
   "metadata": {},
   "outputs": [
    {
     "name": "stdout",
     "output_type": "stream",
     "text": [
      "25\n"
     ]
    }
   ],
   "source": [
    "def aplicar_funcion(func, x):\n",
    "    return func(x)\n",
    "\n",
    "def cuadrado(numero):\n",
    "    return numero ** 2\n",
    "\n",
    "resultado = aplicar_funcion(cuadrado, 5)\n",
    "print(resultado)\n"
   ]
  },
  {
   "cell_type": "code",
   "execution_count": 2,
   "metadata": {},
   "outputs": [
    {
     "name": "stdout",
     "output_type": "stream",
     "text": [
      "8\n",
      "3\n"
     ]
    }
   ],
   "source": [
    "def operar(func, a, b):\n",
    "    return func(a, b)\n",
    "\n",
    "resultado_suma = operar(lambda x, y: x + y, 5, 3)\n",
    "print(resultado_suma)\n",
    "\n",
    "resultado_resta = operar(lambda x, y: x - y, 10, 7)\n",
    "print(resultado_resta)\n"
   ]
  },
  {
   "cell_type": "code",
   "execution_count": 3,
   "metadata": {},
   "outputs": [
    {
     "name": "stdout",
     "output_type": "stream",
     "text": [
      "[1, 4, 9, 16, 25]\n"
     ]
    }
   ],
   "source": [
    "def aplicar_operacion(funcion, lista):\n",
    "    resultados = []\n",
    "    for elemento in lista:\n",
    "        resultados.append(funcion(elemento))\n",
    "    return resultados\n",
    "\n",
    "def cuadrado(numero):\n",
    "    return numero ** 2\n",
    "\n",
    "numeros = [1, 2, 3, 4, 5]\n",
    "resultado = aplicar_operacion(cuadrado, numeros)\n",
    "print(resultado)\n"
   ]
  },
  {
   "cell_type": "markdown",
   "metadata": {},
   "source": [
    "MAP"
   ]
  },
  {
   "cell_type": "markdown",
   "metadata": {},
   "source": [
    "Uso de map para aplicar una función a una lista:"
   ]
  },
  {
   "cell_type": "code",
   "execution_count": 14,
   "metadata": {},
   "outputs": [
    {
     "name": "stdout",
     "output_type": "stream",
     "text": [
      "[1, 4, 9, 16, 25]\n"
     ]
    }
   ],
   "source": [
    "def cuadrado(numero):\n",
    "    return numero ** 2\n",
    "\n",
    "numeros = [1, 2, 3, 4, 5]\n",
    "resultado = map(cuadrado, numeros)\n",
    "print(list(resultado))\n"
   ]
  },
  {
   "cell_type": "code",
   "execution_count": 20,
   "metadata": {},
   "outputs": [
    {
     "name": "stdout",
     "output_type": "stream",
     "text": [
      "[1, 2, 3, 4, 5]\n"
     ]
    }
   ],
   "source": [
    "def cuadrado(numero):\n",
    "    return numero ** 2\n",
    "\n",
    "numeros = [1, 2, 3, 4, 5]\n",
    "resultado = filter(cuadrado, numeros) #No funciona filtre\n",
    "print(list(resultado))\n"
   ]
  },
  {
   "cell_type": "code",
   "execution_count": 7,
   "metadata": {},
   "outputs": [
    {
     "name": "stdout",
     "output_type": "stream",
     "text": [
      "8\n",
      "3\n"
     ]
    }
   ],
   "source": [
    "def operar(func, a, b):\n",
    "    return func(a, b)\n",
    "\n",
    "resultado_suma = operar(lambda x, y: x + y, 5, 3)\n",
    "print(resultado_suma)\n",
    "\n",
    "resultado_resta = operar(lambda x, y: x - y, 10, 7)\n",
    "print(resultado_resta)\n"
   ]
  },
  {
   "cell_type": "code",
   "execution_count": 5,
   "metadata": {},
   "outputs": [
    {
     "name": "stdout",
     "output_type": "stream",
     "text": [
      "[8, 3]\n"
     ]
    }
   ],
   "source": [
    "def operar(func, a, b):\n",
    "    return func(a, b)\n",
    "\n",
    "# Ejemplos de operaciones\n",
    "resultado_suma = operar(lambda x, y: x + y, 5, 3)\n",
    "resultado_resta = operar(lambda x, y: x - y, 10, 7)\n",
    "\n",
    "# Convertir los resultados a una lista\n",
    "resultados = [resultado_suma, resultado_resta]\n",
    "\n",
    "# Convertir los resultados a enteros usando map y int\n",
    "resultados_enteros = list(map(int, resultados))\n",
    "\n",
    "print(resultados_enteros)\n"
   ]
  },
  {
   "cell_type": "code",
   "execution_count": 6,
   "metadata": {},
   "outputs": [
    {
     "name": "stdout",
     "output_type": "stream",
     "text": [
      "[8, 3]\n"
     ]
    }
   ],
   "source": [
    "def operar(func, a, b):\n",
    "    return func(a, b)\n",
    "\n",
    "# Ejemplos de operaciones con resultados convertidos a cadenas\n",
    "resultado_suma = str(operar(lambda x, y: x + y, 5, 3))\n",
    "resultado_resta = str(operar(lambda x, y: x - y, 10, 7))\n",
    "\n",
    "# Almacenar los resultados como cadenas en una lista\n",
    "resultados_cadenas = [resultado_suma, resultado_resta]\n",
    "\n",
    "# Convertir los resultados de cadenas a enteros usando map y int\n",
    "resultados_enteros = list(map(int, resultados_cadenas))\n",
    "\n",
    "print(resultados_enteros)\n"
   ]
  },
  {
   "cell_type": "markdown",
   "metadata": {},
   "source": [
    "Función filter()"
   ]
  },
  {
   "cell_type": "code",
   "execution_count": 5,
   "metadata": {},
   "outputs": [
    {
     "name": "stdout",
     "output_type": "stream",
     "text": [
      "[2, 4, 6, 8, 10]\n"
     ]
    }
   ],
   "source": [
    "def es_par(numero):\n",
    "    return numero % 2 == 0\n",
    "\n",
    "numeros = [1, 2, 3, 4, 5, 6, 7, 8, 9, 10]\n",
    "pares = filter(es_par, numeros)\n",
    "print(list(pares))\n"
   ]
  },
  {
   "cell_type": "code",
   "execution_count": 12,
   "metadata": {},
   "outputs": [
    {
     "name": "stdout",
     "output_type": "stream",
     "text": [
      "[False, True, False, True, False, True, False, True, False, True]\n"
     ]
    }
   ],
   "source": [
    "def es_par(numero):                            #Puse map para ver la diferencia con filter\n",
    "    return numero % 2 == 0\n",
    "\n",
    "numeros2 = [1, 2, 3, 4, 5, 6, 7, 8, 9, 10]\n",
    "pares2 = map(es_par, numeros2)\n",
    "print(list(pares2))\n"
   ]
  },
  {
   "cell_type": "code",
   "execution_count": 9,
   "metadata": {},
   "outputs": [
    {
     "name": "stdout",
     "output_type": "stream",
     "text": [
      "['Python', 'programación', 'genial', 'poderosa']\n"
     ]
    }
   ],
   "source": [
    "def longitud_mayor_a_cinco(palabra):\n",
    "    return len(palabra) > 5\n",
    "\n",
    "palabras = [\"Python\", \"programación\", \"es\", \"genial\", \"y\", \"poderosa\"]\n",
    "palabras_filtradas = filter(longitud_mayor_a_cinco, palabras)\n",
    "print(list(palabras_filtradas))\n"
   ]
  },
  {
   "cell_type": "markdown",
   "metadata": {},
   "source": [
    "Función reduce()"
   ]
  },
  {
   "cell_type": "code",
   "execution_count": 14,
   "metadata": {},
   "outputs": [
    {
     "name": "stdout",
     "output_type": "stream",
     "text": [
      "15\n"
     ]
    }
   ],
   "source": [
    "from functools import reduce\n",
    "\n",
    "def suma_acumulada(a, b):\n",
    "    return a + b\n",
    "\n",
    "numeros = [1, 2, 3, 4, 5]\n",
    "resultado = reduce(suma_acumulada, numeros)\n",
    "print(resultado)\n"
   ]
  },
  {
   "cell_type": "code",
   "execution_count": 15,
   "metadata": {},
   "outputs": [
    {
     "name": "stdout",
     "output_type": "stream",
     "text": [
      "120\n"
     ]
    }
   ],
   "source": [
    "def producto_acumulado(a, b):\n",
    "    return a * b\n",
    "\n",
    "numeros = [1, 2, 3, 4, 5]\n",
    "resultado = reduce(producto_acumulado, numeros)\n",
    "print(resultado)"
   ]
  }
 ],
 "metadata": {
  "kernelspec": {
   "display_name": "Python 3",
   "language": "python",
   "name": "python3"
  },
  "language_info": {
   "codemirror_mode": {
    "name": "ipython",
    "version": 3
   },
   "file_extension": ".py",
   "mimetype": "text/x-python",
   "name": "python",
   "nbconvert_exporter": "python",
   "pygments_lexer": "ipython3",
   "version": "3.12.4"
  }
 },
 "nbformat": 4,
 "nbformat_minor": 2
}
