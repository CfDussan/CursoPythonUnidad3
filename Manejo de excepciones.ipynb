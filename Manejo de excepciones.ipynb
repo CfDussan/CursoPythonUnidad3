{
 "cells": [
  {
   "cell_type": "markdown",
   "metadata": {},
   "source": [
    "MANEJO DE EXCEPCIONES"
   ]
  },
  {
   "cell_type": "markdown",
   "metadata": {},
   "source": [
    "Errores y excepciones.\n",
    "\n",
    "Tipos de errores:\n",
    "Sintaxis\n",
    "Teimpo de ejecucion"
   ]
  },
  {
   "cell_type": "code",
   "execution_count": 1,
   "metadata": {},
   "outputs": [
    {
     "ename": "SyntaxError",
     "evalue": "incomplete input (1907775371.py, line 1)",
     "output_type": "error",
     "traceback": [
      "\u001b[1;36m  Cell \u001b[1;32mIn[1], line 1\u001b[1;36m\u001b[0m\n\u001b[1;33m    print(\"Hola Mundo\"\u001b[0m\n\u001b[1;37m                      ^\u001b[0m\n\u001b[1;31mSyntaxError\u001b[0m\u001b[1;31m:\u001b[0m incomplete input\n"
     ]
    }
   ],
   "source": [
    "print(\"Hola Mundo\"       # Ejemplo de error de sintaxis\n"
   ]
  },
  {
   "cell_type": "code",
   "execution_count": 2,
   "metadata": {},
   "outputs": [
    {
     "ename": "IndexError",
     "evalue": "list index out of range",
     "output_type": "error",
     "traceback": [
      "\u001b[1;31m---------------------------------------------------------------------------\u001b[0m",
      "\u001b[1;31mIndexError\u001b[0m                                Traceback (most recent call last)",
      "Cell \u001b[1;32mIn[2], line 2\u001b[0m\n\u001b[0;32m      1\u001b[0m lista \u001b[38;5;241m=\u001b[39m [\u001b[38;5;241m1\u001b[39m, \u001b[38;5;241m2\u001b[39m, \u001b[38;5;241m3\u001b[39m]\n\u001b[1;32m----> 2\u001b[0m \u001b[38;5;28mprint\u001b[39m(\u001b[43mlista\u001b[49m\u001b[43m[\u001b[49m\u001b[38;5;241;43m3\u001b[39;49m\u001b[43m]\u001b[49m)\n",
      "\u001b[1;31mIndexError\u001b[0m: list index out of range"
     ]
    }
   ],
   "source": [
    "lista = [1, 2, 3]\n",
    "print(lista[3])            # Ejemplo de error de ejecucion de tiempo\n"
   ]
  },
  {
   "cell_type": "markdown",
   "metadata": {},
   "source": [
    "Excepciones"
   ]
  },
  {
   "cell_type": "code",
   "execution_count": 1,
   "metadata": {},
   "outputs": [
    {
     "ename": "ZeroDivisionError",
     "evalue": "division by zero",
     "output_type": "error",
     "traceback": [
      "\u001b[1;31m---------------------------------------------------------------------------\u001b[0m",
      "\u001b[1;31mZeroDivisionError\u001b[0m                         Traceback (most recent call last)",
      "Cell \u001b[1;32mIn[1], line 1\u001b[0m\n\u001b[1;32m----> 1\u001b[0m \u001b[38;5;241;43m4\u001b[39;49m\u001b[38;5;241;43m/\u001b[39;49m\u001b[38;5;241;43m0\u001b[39;49m\n",
      "\u001b[1;31mZeroDivisionError\u001b[0m: division by zero"
     ]
    }
   ],
   "source": [
    "4/0        # Esto lo puse yo"
   ]
  },
  {
   "cell_type": "code",
   "execution_count": 4,
   "metadata": {},
   "outputs": [
    {
     "name": "stdout",
     "output_type": "stream",
     "text": [
      "Error: No se puede dividir por cero.\n"
     ]
    }
   ],
   "source": [
    "numerador = 3\n",
    "divisor = 0\n",
    "\n",
    "try:\n",
    "    resultado = numerador / divisor\n",
    "    print(\"El resultado de la división es:\", resultado)\n",
    "except ZeroDivisionError:\n",
    "    print(\"Error: No se puede dividir por cero.\")\n"
   ]
  },
  {
   "cell_type": "code",
   "execution_count": 7,
   "metadata": {},
   "outputs": [
    {
     "name": "stdout",
     "output_type": "stream",
     "text": [
      "Error: No se puede dividir por cero.\n",
      "Cerrando recursos...\n"
     ]
    }
   ],
   "source": [
    "try:\n",
    "    # Bloque donde se pueden producir excepciones\n",
    "    resultado = 10 / 0\n",
    "except ZeroDivisionError:\n",
    "    # Manejo de la excepción específica ZeroDivisionError\n",
    "    print(\"Error: No se puede dividir por cero.\")\n",
    "else:\n",
    "    # Código que se ejecuta si no se produce ninguna excepción\n",
    "    print(\"La división se realizó correctamente.\")\n",
    "finally:\n",
    "    # Código de limpieza, se ejecuta siempre\n",
    "    print(\"Cerrando recursos...\")\n"
   ]
  },
  {
   "cell_type": "markdown",
   "metadata": {},
   "source": [
    "Código de manejo de múltiples excepciones:"
   ]
  },
  {
   "cell_type": "code",
   "execution_count": 21,
   "metadata": {},
   "outputs": [
    {
     "name": "stdout",
     "output_type": "stream",
     "text": [
      "Error: No se puede dividir por cero.\n"
     ]
    }
   ],
   "source": [
    "try:\n",
    "    # Código propenso a errores\n",
    "    resultado = 10 /0\n",
    "except ZeroDivisionError:\n",
    "    print(\"Error: No se puede dividir por cero.\")\n",
    "except TypeError:\n",
    "    print(\"Error: Tipo de datos incorrecto.\")\n"
   ]
  },
  {
   "cell_type": "markdown",
   "metadata": {},
   "source": [
    "Bloque else para código que se ejecuta si no ocurren excepciones "
   ]
  },
  {
   "cell_type": "code",
   "execution_count": 22,
   "metadata": {},
   "outputs": [
    {
     "name": "stdout",
     "output_type": "stream",
     "text": [
      "La división se realizó correctamente. El resultado es: 5.0\n"
     ]
    }
   ],
   "source": [
    "try:\n",
    "    resultado = 10 / 2\n",
    "except ZeroDivisionError:\n",
    "    print(\"Error: No se puede dividir por cero.\")\n",
    "else:\n",
    "    print(\"La división se realizó correctamente. El resultado es:\", resultado)\n"
   ]
  },
  {
   "cell_type": "code",
   "execution_count": 25,
   "metadata": {},
   "outputs": [
    {
     "name": "stdout",
     "output_type": "stream",
     "text": [
      "La división se realizó correctamente. El resultado es: 2.0\n"
     ]
    }
   ],
   "source": [
    "try:     #Codigo generado por mi, de las dos anteriores\n",
    "    # Código propenso a errores\n",
    "    resultado = 10 /5\n",
    "except ZeroDivisionError:\n",
    "    print(\"Error: No se puede dividir por cero.\")\n",
    "except TypeError:\n",
    "    print(\"Error: Tipo de datos incorrecto.\")\n",
    "else:\n",
    "    print(\"La división se realizó correctamente. El resultado es:\", resultado)"
   ]
  },
  {
   "cell_type": "markdown",
   "metadata": {},
   "source": [
    "El propósito del bloque finally \n",
    "\n",
    "El bloque finally se utiliza para realizar acciones de limpieza, como cerrar archivos o conexiones de bases de datos, garantizando que estas acciones se realicen incluso si se produce una excepción. "
   ]
  },
  {
   "cell_type": "code",
   "execution_count": 26,
   "metadata": {},
   "outputs": [
    {
     "name": "stdout",
     "output_type": "stream",
     "text": [
      "Error: Archivo no encontrado.\n"
     ]
    }
   ],
   "source": [
    "try:\n",
    "    archivo = open(\"datos.txt\", \"r\")\n",
    "    # Operaciones con el archivo\n",
    "except FileNotFoundError:\n",
    "    print(\"Error: Archivo no encontrado.\")\n",
    "finally:\n",
    "    if 'archivo' in locals():\n",
    "        archivo.close()  # Cerrar el archivo independientemente de si se produjo una excepción\n"
   ]
  },
  {
   "cell_type": "markdown",
   "metadata": {},
   "source": [
    "Creación y lanzamiento de excepciones"
   ]
  },
  {
   "cell_type": "markdown",
   "metadata": {},
   "source": [
    "raise"
   ]
  },
  {
   "cell_type": "code",
   "execution_count": 29,
   "metadata": {},
   "outputs": [
    {
     "ename": "ValueError",
     "evalue": "El valor de x no puede ser negativo",
     "output_type": "error",
     "traceback": [
      "\u001b[1;31m---------------------------------------------------------------------------\u001b[0m",
      "\u001b[1;31mValueError\u001b[0m                                Traceback (most recent call last)",
      "Cell \u001b[1;32mIn[29], line 4\u001b[0m\n\u001b[0;32m      1\u001b[0m x \u001b[38;5;241m=\u001b[39m \u001b[38;5;241m-\u001b[39m\u001b[38;5;241m1\u001b[39m\n\u001b[0;32m      3\u001b[0m \u001b[38;5;28;01mif\u001b[39;00m x \u001b[38;5;241m<\u001b[39m \u001b[38;5;241m0\u001b[39m:\n\u001b[1;32m----> 4\u001b[0m     \u001b[38;5;28;01mraise\u001b[39;00m \u001b[38;5;167;01mValueError\u001b[39;00m(\u001b[38;5;124m\"\u001b[39m\u001b[38;5;124mEl valor de x no puede ser negativo\u001b[39m\u001b[38;5;124m\"\u001b[39m)\n",
      "\u001b[1;31mValueError\u001b[0m: El valor de x no puede ser negativo"
     ]
    }
   ],
   "source": [
    "x = -1\n",
    "\n",
    "if x < 0:\n",
    "    raise ValueError(\"El valor de x no puede ser negativo\")\n"
   ]
  },
  {
   "cell_type": "markdown",
   "metadata": {},
   "source": [
    "Creación de excepciones personalizadas mediante la subclase de la clase Exception "
   ]
  },
  {
   "cell_type": "code",
   "execution_count": 30,
   "metadata": {},
   "outputs": [
    {
     "name": "stdout",
     "output_type": "stream",
     "text": [
      "Lo siento, este producto está agotado.\n"
     ]
    }
   ],
   "source": [
    "class ProductoAgotadoError(Exception):\n",
    "    pass\n",
    "\n",
    "def comprar_producto(producto, cantidad_disponible):\n",
    "    if cantidad_disponible == 0:\n",
    "        raise ProductoAgotadoError(\"Lo siento, este producto está agotado.\")\n",
    "    else:\n",
    "        print(\"Producto comprado exitosamente.\")\n",
    "\n",
    "# Uso de la excepción personalizada\n",
    "try:\n",
    "    comprar_producto(\"Camiseta\", 0)\n",
    "except ProductoAgotadoError as e:\n",
    "    print(e)\n"
   ]
  },
  {
   "cell_type": "code",
   "execution_count": 34,
   "metadata": {},
   "outputs": [],
   "source": [
    "def primeras_letras(lista_de_palabras):\n",
    "    primeras_letras = []\n",
    "\n",
    "    for palabra in lista_de_palabras:\n",
    "        assert type(palabra) == str, f'{palabra} no es str'\n",
    "        assert len(palabra) > 0, 'No se permiten str vacíos'\n",
    "\n",
    "        primeras_letras.append(palabra[0])\n",
    "\n",
    "    return primeras_letras\n"
   ]
  },
  {
   "cell_type": "code",
   "execution_count": 38,
   "metadata": {},
   "outputs": [
    {
     "data": {
      "text/plain": [
       "['8']"
      ]
     },
     "execution_count": 38,
     "metadata": {},
     "output_type": "execute_result"
    }
   ],
   "source": [
    "primeras_letras('8')"
   ]
  },
  {
   "cell_type": "code",
   "execution_count": 39,
   "metadata": {},
   "outputs": [],
   "source": [
    "paises=['Canada','Colombia','Argentina','Uruguay']"
   ]
  },
  {
   "cell_type": "code",
   "execution_count": 40,
   "metadata": {},
   "outputs": [
    {
     "data": {
      "text/plain": [
       "['C', 'C', 'A', 'U']"
      ]
     },
     "execution_count": 40,
     "metadata": {},
     "output_type": "execute_result"
    }
   ],
   "source": [
    "primeras_letras(paises)"
   ]
  },
  {
   "cell_type": "code",
   "execution_count": 42,
   "metadata": {},
   "outputs": [
    {
     "name": "stdout",
     "output_type": "stream",
     "text": [
      "['C', 'a', 'r', 'l', 'o', 's', ' ', 'F', 'e', 'r', 'n', 'a', 'n', 'd', 'o', ' ', 'D', 'u', 's', 's', 'a', 'n', ' ', 'R', 'i', 'v', 'e', 'r', 'a']\n",
      "['C', 'F', 'D', 'R']\n"
     ]
    }
   ],
   "source": [
    "nombre=('Carlos Fernando Dussan Rivera')\n",
    "nombre2=('Carlos', 'Fernando', 'Dussan' ,'Rivera')\n",
    "print(primeras_letras(nombre))\n",
    "print(primeras_letras(nombre2))"
   ]
  },
  {
   "cell_type": "code",
   "execution_count": 43,
   "metadata": {},
   "outputs": [
    {
     "data": {
      "text/plain": [
       "['C', 'a', 'm', 'i', 'n', 'a', 'r']"
      ]
     },
     "execution_count": 43,
     "metadata": {},
     "output_type": "execute_result"
    }
   ],
   "source": [
    "primeras_letras('Caminar')"
   ]
  }
 ],
 "metadata": {
  "kernelspec": {
   "display_name": "Python 3",
   "language": "python",
   "name": "python3"
  },
  "language_info": {
   "codemirror_mode": {
    "name": "ipython",
    "version": 3
   },
   "file_extension": ".py",
   "mimetype": "text/x-python",
   "name": "python",
   "nbconvert_exporter": "python",
   "pygments_lexer": "ipython3",
   "version": "3.12.4"
  }
 },
 "nbformat": 4,
 "nbformat_minor": 2
}
